{
  "nbformat": 4,
  "nbformat_minor": 0,
  "metadata": {
    "colab": {
      "name": "roommate_matchmaking_user_code.ipynb",
      "provenance": [],
      "collapsed_sections": []
    },
    "kernelspec": {
      "name": "python3",
      "display_name": "Python 3"
    },
    "language_info": {
      "name": "python"
    }
  },
  "cells": [
    {
      "cell_type": "markdown",
      "metadata": {
        "id": "VcBeoLyBYlDo"
      },
      "source": [
        "# Cloning the repository"
      ]
    },
    {
      "cell_type": "code",
      "metadata": {
        "colab": {
          "base_uri": "https://localhost:8080/"
        },
        "id": "hKBKlTj0b_3f",
        "outputId": "9a58931e-a625-4d4d-95b3-1fafe41c258a"
      },
      "source": [
        "!git clone https://github.com/atharva-diwan/ME781_course_project_grp31.git"
      ],
      "execution_count": 1,
      "outputs": [
        {
          "output_type": "stream",
          "name": "stdout",
          "text": [
            "Cloning into 'ME781_course_project_grp31'...\n",
            "remote: Enumerating objects: 60, done.\u001b[K\n",
            "remote: Counting objects: 100% (60/60), done.\u001b[K\n",
            "remote: Compressing objects: 100% (39/39), done.\u001b[K\n",
            "remote: Total 60 (delta 24), reused 50 (delta 14), pack-reused 0\u001b[K\n",
            "Unpacking objects: 100% (60/60), done.\n"
          ]
        }
      ]
    },
    {
      "cell_type": "code",
      "metadata": {
        "colab": {
          "base_uri": "https://localhost:8080/"
        },
        "id": "XmBff-VGcJee",
        "outputId": "73e868f9-21ad-48cf-f63c-36f420c4d24a"
      },
      "source": [
        "cd ME781_course_project_grp31/"
      ],
      "execution_count": 2,
      "outputs": [
        {
          "output_type": "stream",
          "name": "stdout",
          "text": [
            "/content/ME781_course_project_grp31\n"
          ]
        }
      ]
    },
    {
      "cell_type": "markdown",
      "metadata": {
        "id": "s9UAyu8UYuEG"
      },
      "source": [
        "# installing package dependencies"
      ]
    },
    {
      "cell_type": "code",
      "metadata": {
        "id": "q6_L_hqIcMqk",
        "colab": {
          "base_uri": "https://localhost:8080/"
        },
        "outputId": "7abc71b8-ba0c-46f3-f3e8-025923a05b70"
      },
      "source": [
        "!pip install -r requirements.txt"
      ],
      "execution_count": 3,
      "outputs": [
        {
          "output_type": "stream",
          "name": "stdout",
          "text": [
            "Requirement already satisfied: numpy in /usr/local/lib/python3.7/dist-packages (from -r requirements.txt (line 1)) (1.19.5)\n",
            "Requirement already satisfied: pandas in /usr/local/lib/python3.7/dist-packages (from -r requirements.txt (line 2)) (1.1.5)\n",
            "Requirement already satisfied: matplotlib in /usr/local/lib/python3.7/dist-packages (from -r requirements.txt (line 3)) (3.2.2)\n",
            "Requirement already satisfied: seaborn in /usr/local/lib/python3.7/dist-packages (from -r requirements.txt (line 4)) (0.11.2)\n",
            "Requirement already satisfied: gdown in /usr/local/lib/python3.7/dist-packages (from -r requirements.txt (line 5)) (3.6.4)\n",
            "Requirement already satisfied: pytz>=2017.2 in /usr/local/lib/python3.7/dist-packages (from pandas->-r requirements.txt (line 2)) (2018.9)\n",
            "Requirement already satisfied: python-dateutil>=2.7.3 in /usr/local/lib/python3.7/dist-packages (from pandas->-r requirements.txt (line 2)) (2.8.2)\n",
            "Requirement already satisfied: six>=1.5 in /usr/local/lib/python3.7/dist-packages (from python-dateutil>=2.7.3->pandas->-r requirements.txt (line 2)) (1.15.0)\n",
            "Requirement already satisfied: cycler>=0.10 in /usr/local/lib/python3.7/dist-packages (from matplotlib->-r requirements.txt (line 3)) (0.11.0)\n",
            "Requirement already satisfied: kiwisolver>=1.0.1 in /usr/local/lib/python3.7/dist-packages (from matplotlib->-r requirements.txt (line 3)) (1.3.2)\n",
            "Requirement already satisfied: pyparsing!=2.0.4,!=2.1.2,!=2.1.6,>=2.0.1 in /usr/local/lib/python3.7/dist-packages (from matplotlib->-r requirements.txt (line 3)) (3.0.6)\n",
            "Requirement already satisfied: scipy>=1.0 in /usr/local/lib/python3.7/dist-packages (from seaborn->-r requirements.txt (line 4)) (1.4.1)\n",
            "Requirement already satisfied: tqdm in /usr/local/lib/python3.7/dist-packages (from gdown->-r requirements.txt (line 5)) (4.62.3)\n",
            "Requirement already satisfied: requests in /usr/local/lib/python3.7/dist-packages (from gdown->-r requirements.txt (line 5)) (2.23.0)\n",
            "Requirement already satisfied: chardet<4,>=3.0.2 in /usr/local/lib/python3.7/dist-packages (from requests->gdown->-r requirements.txt (line 5)) (3.0.4)\n",
            "Requirement already satisfied: urllib3!=1.25.0,!=1.25.1,<1.26,>=1.21.1 in /usr/local/lib/python3.7/dist-packages (from requests->gdown->-r requirements.txt (line 5)) (1.24.3)\n",
            "Requirement already satisfied: certifi>=2017.4.17 in /usr/local/lib/python3.7/dist-packages (from requests->gdown->-r requirements.txt (line 5)) (2021.10.8)\n",
            "Requirement already satisfied: idna<3,>=2.5 in /usr/local/lib/python3.7/dist-packages (from requests->gdown->-r requirements.txt (line 5)) (2.10)\n"
          ]
        }
      ]
    },
    {
      "cell_type": "code",
      "metadata": {
        "_uuid": "8f2839f25d086af736a60e9eeb907d3b93b6e0e5",
        "_cell_guid": "b1076dfc-b9ad-4769-8c92-a6c4dae69d19",
        "_kg_hide-input": true,
        "trusted": true,
        "id": "O7AZl0ByhfI3"
      },
      "source": [
        "import numpy as np \n",
        "import pandas as pd\n",
        "import matplotlib.pyplot as plt\n",
        "import seaborn as sns\n",
        "import os"
      ],
      "execution_count": 4,
      "outputs": []
    },
    {
      "cell_type": "code",
      "metadata": {
        "colab": {
          "base_uri": "https://localhost:8080/"
        },
        "id": "FC8mUVK5Yzns",
        "outputId": "a21b3762-0113-409a-a809-45b93bd78383"
      },
      "source": [
        "!git clone https://github.com/atharva-diwan/ME781_course_project_grp31.git"
      ],
      "execution_count": 5,
      "outputs": [
        {
          "output_type": "stream",
          "name": "stdout",
          "text": [
            "Cloning into 'ME781_course_project_grp31'...\n",
            "remote: Enumerating objects: 60, done.\u001b[K\n",
            "remote: Counting objects: 100% (60/60), done.\u001b[K\n",
            "remote: Compressing objects: 100% (39/39), done.\u001b[K\n",
            "remote: Total 60 (delta 24), reused 50 (delta 14), pack-reused 0\u001b[K\n",
            "Unpacking objects: 100% (60/60), done.\n"
          ]
        }
      ]
    },
    {
      "cell_type": "code",
      "metadata": {
        "colab": {
          "base_uri": "https://localhost:8080/"
        },
        "id": "4JNgZQffYznw",
        "outputId": "c5442101-0e82-4735-85fb-67e814c11072"
      },
      "source": [
        "cd ME781_course_project_grp31/"
      ],
      "execution_count": 6,
      "outputs": [
        {
          "output_type": "stream",
          "name": "stdout",
          "text": [
            "/content/ME781_course_project_grp31/ME781_course_project_grp31\n"
          ]
        }
      ]
    },
    {
      "cell_type": "code",
      "metadata": {
        "colab": {
          "base_uri": "https://localhost:8080/"
        },
        "id": "zstp7ipPYznz",
        "outputId": "8dbb0544-2f2a-4a80-f949-35bd5d45e0e6"
      },
      "source": [
        "!pip install -r requirements.txt"
      ],
      "execution_count": 7,
      "outputs": [
        {
          "output_type": "stream",
          "name": "stdout",
          "text": [
            "Requirement already satisfied: numpy in /usr/local/lib/python3.7/dist-packages (from -r requirements.txt (line 1)) (1.19.5)\n",
            "Requirement already satisfied: pandas in /usr/local/lib/python3.7/dist-packages (from -r requirements.txt (line 2)) (1.1.5)\n",
            "Requirement already satisfied: matplotlib in /usr/local/lib/python3.7/dist-packages (from -r requirements.txt (line 3)) (3.2.2)\n",
            "Requirement already satisfied: seaborn in /usr/local/lib/python3.7/dist-packages (from -r requirements.txt (line 4)) (0.11.2)\n",
            "Requirement already satisfied: gdown in /usr/local/lib/python3.7/dist-packages (from -r requirements.txt (line 5)) (3.6.4)\n",
            "Requirement already satisfied: python-dateutil>=2.7.3 in /usr/local/lib/python3.7/dist-packages (from pandas->-r requirements.txt (line 2)) (2.8.2)\n",
            "Requirement already satisfied: pytz>=2017.2 in /usr/local/lib/python3.7/dist-packages (from pandas->-r requirements.txt (line 2)) (2018.9)\n",
            "Requirement already satisfied: six>=1.5 in /usr/local/lib/python3.7/dist-packages (from python-dateutil>=2.7.3->pandas->-r requirements.txt (line 2)) (1.15.0)\n",
            "Requirement already satisfied: pyparsing!=2.0.4,!=2.1.2,!=2.1.6,>=2.0.1 in /usr/local/lib/python3.7/dist-packages (from matplotlib->-r requirements.txt (line 3)) (3.0.6)\n",
            "Requirement already satisfied: cycler>=0.10 in /usr/local/lib/python3.7/dist-packages (from matplotlib->-r requirements.txt (line 3)) (0.11.0)\n",
            "Requirement already satisfied: kiwisolver>=1.0.1 in /usr/local/lib/python3.7/dist-packages (from matplotlib->-r requirements.txt (line 3)) (1.3.2)\n",
            "Requirement already satisfied: scipy>=1.0 in /usr/local/lib/python3.7/dist-packages (from seaborn->-r requirements.txt (line 4)) (1.4.1)\n",
            "Requirement already satisfied: tqdm in /usr/local/lib/python3.7/dist-packages (from gdown->-r requirements.txt (line 5)) (4.62.3)\n",
            "Requirement already satisfied: requests in /usr/local/lib/python3.7/dist-packages (from gdown->-r requirements.txt (line 5)) (2.23.0)\n",
            "Requirement already satisfied: chardet<4,>=3.0.2 in /usr/local/lib/python3.7/dist-packages (from requests->gdown->-r requirements.txt (line 5)) (3.0.4)\n",
            "Requirement already satisfied: certifi>=2017.4.17 in /usr/local/lib/python3.7/dist-packages (from requests->gdown->-r requirements.txt (line 5)) (2021.10.8)\n",
            "Requirement already satisfied: idna<3,>=2.5 in /usr/local/lib/python3.7/dist-packages (from requests->gdown->-r requirements.txt (line 5)) (2.10)\n",
            "Requirement already satisfied: urllib3!=1.25.0,!=1.25.1,<1.26,>=1.21.1 in /usr/local/lib/python3.7/dist-packages (from requests->gdown->-r requirements.txt (line 5)) (1.24.3)\n"
          ]
        }
      ]
    },
    {
      "cell_type": "code",
      "metadata": {
        "_uuid": "8f2839f25d086af736a60e9eeb907d3b93b6e0e5",
        "_cell_guid": "b1076dfc-b9ad-4769-8c92-a6c4dae69d19",
        "_kg_hide-input": true,
        "trusted": true,
        "id": "tQ1hLFpiYzn2"
      },
      "source": [
        "import numpy as np \n",
        "import pandas as pd\n",
        "import matplotlib.pyplot as plt\n",
        "import seaborn as sns\n",
        "import os\n",
        "from sklearn.decomposition import PCA\n",
        "from sklearn.preprocessing import StandardScaler\n",
        "from sklearn.preprocessing import MinMaxScaler\n",
        "from sklearn.cluster import KMeans\n",
        "from yellowbrick.cluster import KElbowVisualizer\n",
        "from sklearn.cluster import KMeans"
      ],
      "execution_count": 13,
      "outputs": []
    },
    {
      "cell_type": "markdown",
      "metadata": {
        "id": "xX5GuApEFnxo"
      },
      "source": [
        "#Downloading big5 personality dataset"
      ]
    },
    {
      "cell_type": "code",
      "metadata": {
        "colab": {
          "base_uri": "https://localhost:8080/"
        },
        "id": "iA5njlhobZdf",
        "outputId": "b92a46e0-a305-4677-db4e-e60fa5669413"
      },
      "source": [
        "!gdown 'https://drive.google.com/uc?export=download&id=1EyZ8IBXhPrIkvLnjKaFVIAsAejbgTQHZ'"
      ],
      "execution_count": 9,
      "outputs": [
        {
          "output_type": "stream",
          "name": "stdout",
          "text": [
            "Downloading...\n",
            "From: https://drive.google.com/uc?export=download&id=1EyZ8IBXhPrIkvLnjKaFVIAsAejbgTQHZ\n",
            "To: /content/ME781_course_project_grp31/ME781_course_project_grp31/big_5_dataset.zip\n",
            "100% 167M/167M [00:00<00:00, 181MB/s]\n"
          ]
        }
      ]
    },
    {
      "cell_type": "code",
      "metadata": {
        "colab": {
          "base_uri": "https://localhost:8080/"
        },
        "id": "dBxOpIXHbZdf",
        "outputId": "359400f2-1890-4326-9ab6-8453ed4949f2"
      },
      "source": [
        "!unzip 'big_5_dataset.zip' -d big5_personality_dataset/"
      ],
      "execution_count": 10,
      "outputs": [
        {
          "output_type": "stream",
          "name": "stdout",
          "text": [
            "Archive:  big_5_dataset.zip\n",
            " extracting: big5_personality_dataset/IPIP-FFM-data-8Nov2018/.directory  \n",
            "  inflating: big5_personality_dataset/IPIP-FFM-data-8Nov2018/codebook.txt  \n",
            "  inflating: big5_personality_dataset/IPIP-FFM-data-8Nov2018/data-final.csv  \n",
            "  inflating: big5_personality_dataset/IPIP-FFM-data-8Nov2018/sample_excel_file.xlsx  \n"
          ]
        }
      ]
    },
    {
      "cell_type": "markdown",
      "metadata": {
        "id": "aY55TdN4Gf-M"
      },
      "source": [
        "## Loading the Data Set"
      ]
    },
    {
      "cell_type": "code",
      "metadata": {
        "_uuid": "d629ff2d2480ee46fbb7e2d37f6b5fab8052498a",
        "_cell_guid": "79c7e3d0-c299-4dcb-8224-4455121ee9b0",
        "_kg_hide-input": true,
        "trusted": true,
        "colab": {
          "base_uri": "https://localhost:8080/",
          "height": 243
        },
        "id": "JKLbMox4Gf-O",
        "outputId": "1920ac8b-0a12-4ac6-bba4-270d96baac30"
      },
      "source": [
        "data_raw = pd.read_csv('big5_personality_dataset/IPIP-FFM-data-8Nov2018/data-final.csv', sep='\\t')\n",
        "data = data_raw.copy()\n",
        "pd.options.display.max_columns = 150\n",
        "\n",
        "data.drop(data.columns[50:107], axis=1, inplace=True)\n",
        "data.drop(data.columns[51:], axis=1, inplace=True)\n",
        "\n",
        "print('Number of participants: ', len(data))\n",
        "data.head()"
      ],
      "execution_count": 18,
      "outputs": [
        {
          "output_type": "stream",
          "name": "stdout",
          "text": [
            "Number of participants:  1015341\n"
          ]
        },
        {
          "output_type": "execute_result",
          "data": {
            "text/html": [
              "<div>\n",
              "<style scoped>\n",
              "    .dataframe tbody tr th:only-of-type {\n",
              "        vertical-align: middle;\n",
              "    }\n",
              "\n",
              "    .dataframe tbody tr th {\n",
              "        vertical-align: top;\n",
              "    }\n",
              "\n",
              "    .dataframe thead th {\n",
              "        text-align: right;\n",
              "    }\n",
              "</style>\n",
              "<table border=\"1\" class=\"dataframe\">\n",
              "  <thead>\n",
              "    <tr style=\"text-align: right;\">\n",
              "      <th></th>\n",
              "      <th>EXT1</th>\n",
              "      <th>EXT2</th>\n",
              "      <th>EXT3</th>\n",
              "      <th>EXT4</th>\n",
              "      <th>EXT5</th>\n",
              "      <th>EXT6</th>\n",
              "      <th>EXT7</th>\n",
              "      <th>EXT8</th>\n",
              "      <th>EXT9</th>\n",
              "      <th>EXT10</th>\n",
              "      <th>EST1</th>\n",
              "      <th>EST2</th>\n",
              "      <th>EST3</th>\n",
              "      <th>EST4</th>\n",
              "      <th>EST5</th>\n",
              "      <th>EST6</th>\n",
              "      <th>EST7</th>\n",
              "      <th>EST8</th>\n",
              "      <th>EST9</th>\n",
              "      <th>EST10</th>\n",
              "      <th>AGR1</th>\n",
              "      <th>AGR2</th>\n",
              "      <th>AGR3</th>\n",
              "      <th>AGR4</th>\n",
              "      <th>AGR5</th>\n",
              "      <th>AGR6</th>\n",
              "      <th>AGR7</th>\n",
              "      <th>AGR8</th>\n",
              "      <th>AGR9</th>\n",
              "      <th>AGR10</th>\n",
              "      <th>CSN1</th>\n",
              "      <th>CSN2</th>\n",
              "      <th>CSN3</th>\n",
              "      <th>CSN4</th>\n",
              "      <th>CSN5</th>\n",
              "      <th>CSN6</th>\n",
              "      <th>CSN7</th>\n",
              "      <th>CSN8</th>\n",
              "      <th>CSN9</th>\n",
              "      <th>CSN10</th>\n",
              "      <th>OPN1</th>\n",
              "      <th>OPN2</th>\n",
              "      <th>OPN3</th>\n",
              "      <th>OPN4</th>\n",
              "      <th>OPN5</th>\n",
              "      <th>OPN6</th>\n",
              "      <th>OPN7</th>\n",
              "      <th>OPN8</th>\n",
              "      <th>OPN9</th>\n",
              "      <th>OPN10</th>\n",
              "      <th>country</th>\n",
              "    </tr>\n",
              "  </thead>\n",
              "  <tbody>\n",
              "    <tr>\n",
              "      <th>0</th>\n",
              "      <td>4.0</td>\n",
              "      <td>1.0</td>\n",
              "      <td>5.0</td>\n",
              "      <td>2.0</td>\n",
              "      <td>5.0</td>\n",
              "      <td>1.0</td>\n",
              "      <td>5.0</td>\n",
              "      <td>2.0</td>\n",
              "      <td>4.0</td>\n",
              "      <td>1.0</td>\n",
              "      <td>1.0</td>\n",
              "      <td>4.0</td>\n",
              "      <td>4.0</td>\n",
              "      <td>2.0</td>\n",
              "      <td>2.0</td>\n",
              "      <td>2.0</td>\n",
              "      <td>2.0</td>\n",
              "      <td>2.0</td>\n",
              "      <td>3.0</td>\n",
              "      <td>2.0</td>\n",
              "      <td>2.0</td>\n",
              "      <td>5.0</td>\n",
              "      <td>2.0</td>\n",
              "      <td>4.0</td>\n",
              "      <td>2.0</td>\n",
              "      <td>3.0</td>\n",
              "      <td>2.0</td>\n",
              "      <td>4.0</td>\n",
              "      <td>3.0</td>\n",
              "      <td>4.0</td>\n",
              "      <td>3.0</td>\n",
              "      <td>4.0</td>\n",
              "      <td>3.0</td>\n",
              "      <td>2.0</td>\n",
              "      <td>2.0</td>\n",
              "      <td>4.0</td>\n",
              "      <td>4.0</td>\n",
              "      <td>2.0</td>\n",
              "      <td>4.0</td>\n",
              "      <td>4.0</td>\n",
              "      <td>5.0</td>\n",
              "      <td>1.0</td>\n",
              "      <td>4.0</td>\n",
              "      <td>1.0</td>\n",
              "      <td>4.0</td>\n",
              "      <td>1.0</td>\n",
              "      <td>5.0</td>\n",
              "      <td>3.0</td>\n",
              "      <td>4.0</td>\n",
              "      <td>5.0</td>\n",
              "      <td>GB</td>\n",
              "    </tr>\n",
              "    <tr>\n",
              "      <th>1</th>\n",
              "      <td>3.0</td>\n",
              "      <td>5.0</td>\n",
              "      <td>3.0</td>\n",
              "      <td>4.0</td>\n",
              "      <td>3.0</td>\n",
              "      <td>3.0</td>\n",
              "      <td>2.0</td>\n",
              "      <td>5.0</td>\n",
              "      <td>1.0</td>\n",
              "      <td>5.0</td>\n",
              "      <td>2.0</td>\n",
              "      <td>3.0</td>\n",
              "      <td>4.0</td>\n",
              "      <td>1.0</td>\n",
              "      <td>3.0</td>\n",
              "      <td>1.0</td>\n",
              "      <td>2.0</td>\n",
              "      <td>1.0</td>\n",
              "      <td>3.0</td>\n",
              "      <td>1.0</td>\n",
              "      <td>1.0</td>\n",
              "      <td>4.0</td>\n",
              "      <td>1.0</td>\n",
              "      <td>5.0</td>\n",
              "      <td>1.0</td>\n",
              "      <td>5.0</td>\n",
              "      <td>3.0</td>\n",
              "      <td>4.0</td>\n",
              "      <td>5.0</td>\n",
              "      <td>3.0</td>\n",
              "      <td>3.0</td>\n",
              "      <td>2.0</td>\n",
              "      <td>5.0</td>\n",
              "      <td>3.0</td>\n",
              "      <td>3.0</td>\n",
              "      <td>1.0</td>\n",
              "      <td>3.0</td>\n",
              "      <td>3.0</td>\n",
              "      <td>5.0</td>\n",
              "      <td>3.0</td>\n",
              "      <td>1.0</td>\n",
              "      <td>2.0</td>\n",
              "      <td>4.0</td>\n",
              "      <td>2.0</td>\n",
              "      <td>3.0</td>\n",
              "      <td>1.0</td>\n",
              "      <td>4.0</td>\n",
              "      <td>2.0</td>\n",
              "      <td>5.0</td>\n",
              "      <td>3.0</td>\n",
              "      <td>MY</td>\n",
              "    </tr>\n",
              "    <tr>\n",
              "      <th>2</th>\n",
              "      <td>2.0</td>\n",
              "      <td>3.0</td>\n",
              "      <td>4.0</td>\n",
              "      <td>4.0</td>\n",
              "      <td>3.0</td>\n",
              "      <td>2.0</td>\n",
              "      <td>1.0</td>\n",
              "      <td>3.0</td>\n",
              "      <td>2.0</td>\n",
              "      <td>5.0</td>\n",
              "      <td>4.0</td>\n",
              "      <td>4.0</td>\n",
              "      <td>4.0</td>\n",
              "      <td>2.0</td>\n",
              "      <td>2.0</td>\n",
              "      <td>2.0</td>\n",
              "      <td>2.0</td>\n",
              "      <td>2.0</td>\n",
              "      <td>1.0</td>\n",
              "      <td>3.0</td>\n",
              "      <td>1.0</td>\n",
              "      <td>4.0</td>\n",
              "      <td>1.0</td>\n",
              "      <td>4.0</td>\n",
              "      <td>2.0</td>\n",
              "      <td>4.0</td>\n",
              "      <td>1.0</td>\n",
              "      <td>4.0</td>\n",
              "      <td>4.0</td>\n",
              "      <td>3.0</td>\n",
              "      <td>4.0</td>\n",
              "      <td>2.0</td>\n",
              "      <td>2.0</td>\n",
              "      <td>2.0</td>\n",
              "      <td>3.0</td>\n",
              "      <td>3.0</td>\n",
              "      <td>4.0</td>\n",
              "      <td>2.0</td>\n",
              "      <td>4.0</td>\n",
              "      <td>2.0</td>\n",
              "      <td>5.0</td>\n",
              "      <td>1.0</td>\n",
              "      <td>2.0</td>\n",
              "      <td>1.0</td>\n",
              "      <td>4.0</td>\n",
              "      <td>2.0</td>\n",
              "      <td>5.0</td>\n",
              "      <td>3.0</td>\n",
              "      <td>4.0</td>\n",
              "      <td>4.0</td>\n",
              "      <td>GB</td>\n",
              "    </tr>\n",
              "    <tr>\n",
              "      <th>3</th>\n",
              "      <td>2.0</td>\n",
              "      <td>2.0</td>\n",
              "      <td>2.0</td>\n",
              "      <td>3.0</td>\n",
              "      <td>4.0</td>\n",
              "      <td>2.0</td>\n",
              "      <td>2.0</td>\n",
              "      <td>4.0</td>\n",
              "      <td>1.0</td>\n",
              "      <td>4.0</td>\n",
              "      <td>3.0</td>\n",
              "      <td>3.0</td>\n",
              "      <td>3.0</td>\n",
              "      <td>2.0</td>\n",
              "      <td>3.0</td>\n",
              "      <td>2.0</td>\n",
              "      <td>2.0</td>\n",
              "      <td>2.0</td>\n",
              "      <td>4.0</td>\n",
              "      <td>3.0</td>\n",
              "      <td>2.0</td>\n",
              "      <td>4.0</td>\n",
              "      <td>3.0</td>\n",
              "      <td>4.0</td>\n",
              "      <td>2.0</td>\n",
              "      <td>4.0</td>\n",
              "      <td>2.0</td>\n",
              "      <td>4.0</td>\n",
              "      <td>3.0</td>\n",
              "      <td>4.0</td>\n",
              "      <td>2.0</td>\n",
              "      <td>4.0</td>\n",
              "      <td>4.0</td>\n",
              "      <td>4.0</td>\n",
              "      <td>1.0</td>\n",
              "      <td>2.0</td>\n",
              "      <td>2.0</td>\n",
              "      <td>3.0</td>\n",
              "      <td>1.0</td>\n",
              "      <td>4.0</td>\n",
              "      <td>4.0</td>\n",
              "      <td>2.0</td>\n",
              "      <td>5.0</td>\n",
              "      <td>2.0</td>\n",
              "      <td>3.0</td>\n",
              "      <td>1.0</td>\n",
              "      <td>4.0</td>\n",
              "      <td>4.0</td>\n",
              "      <td>3.0</td>\n",
              "      <td>3.0</td>\n",
              "      <td>GB</td>\n",
              "    </tr>\n",
              "    <tr>\n",
              "      <th>4</th>\n",
              "      <td>3.0</td>\n",
              "      <td>3.0</td>\n",
              "      <td>3.0</td>\n",
              "      <td>3.0</td>\n",
              "      <td>5.0</td>\n",
              "      <td>3.0</td>\n",
              "      <td>3.0</td>\n",
              "      <td>5.0</td>\n",
              "      <td>3.0</td>\n",
              "      <td>4.0</td>\n",
              "      <td>1.0</td>\n",
              "      <td>5.0</td>\n",
              "      <td>5.0</td>\n",
              "      <td>3.0</td>\n",
              "      <td>1.0</td>\n",
              "      <td>1.0</td>\n",
              "      <td>1.0</td>\n",
              "      <td>1.0</td>\n",
              "      <td>3.0</td>\n",
              "      <td>2.0</td>\n",
              "      <td>1.0</td>\n",
              "      <td>5.0</td>\n",
              "      <td>1.0</td>\n",
              "      <td>5.0</td>\n",
              "      <td>1.0</td>\n",
              "      <td>3.0</td>\n",
              "      <td>1.0</td>\n",
              "      <td>5.0</td>\n",
              "      <td>5.0</td>\n",
              "      <td>3.0</td>\n",
              "      <td>5.0</td>\n",
              "      <td>1.0</td>\n",
              "      <td>5.0</td>\n",
              "      <td>1.0</td>\n",
              "      <td>3.0</td>\n",
              "      <td>1.0</td>\n",
              "      <td>5.0</td>\n",
              "      <td>1.0</td>\n",
              "      <td>5.0</td>\n",
              "      <td>5.0</td>\n",
              "      <td>5.0</td>\n",
              "      <td>1.0</td>\n",
              "      <td>5.0</td>\n",
              "      <td>1.0</td>\n",
              "      <td>5.0</td>\n",
              "      <td>1.0</td>\n",
              "      <td>5.0</td>\n",
              "      <td>3.0</td>\n",
              "      <td>5.0</td>\n",
              "      <td>5.0</td>\n",
              "      <td>KE</td>\n",
              "    </tr>\n",
              "  </tbody>\n",
              "</table>\n",
              "</div>"
            ],
            "text/plain": [
              "   EXT1  EXT2  EXT3  EXT4  EXT5  EXT6  EXT7  EXT8  EXT9  EXT10  EST1  EST2  \\\n",
              "0   4.0   1.0   5.0   2.0   5.0   1.0   5.0   2.0   4.0    1.0   1.0   4.0   \n",
              "1   3.0   5.0   3.0   4.0   3.0   3.0   2.0   5.0   1.0    5.0   2.0   3.0   \n",
              "2   2.0   3.0   4.0   4.0   3.0   2.0   1.0   3.0   2.0    5.0   4.0   4.0   \n",
              "3   2.0   2.0   2.0   3.0   4.0   2.0   2.0   4.0   1.0    4.0   3.0   3.0   \n",
              "4   3.0   3.0   3.0   3.0   5.0   3.0   3.0   5.0   3.0    4.0   1.0   5.0   \n",
              "\n",
              "   EST3  EST4  EST5  EST6  EST7  EST8  EST9  EST10  AGR1  AGR2  AGR3  AGR4  \\\n",
              "0   4.0   2.0   2.0   2.0   2.0   2.0   3.0    2.0   2.0   5.0   2.0   4.0   \n",
              "1   4.0   1.0   3.0   1.0   2.0   1.0   3.0    1.0   1.0   4.0   1.0   5.0   \n",
              "2   4.0   2.0   2.0   2.0   2.0   2.0   1.0    3.0   1.0   4.0   1.0   4.0   \n",
              "3   3.0   2.0   3.0   2.0   2.0   2.0   4.0    3.0   2.0   4.0   3.0   4.0   \n",
              "4   5.0   3.0   1.0   1.0   1.0   1.0   3.0    2.0   1.0   5.0   1.0   5.0   \n",
              "\n",
              "   AGR5  AGR6  AGR7  AGR8  AGR9  AGR10  CSN1  CSN2  CSN3  CSN4  CSN5  CSN6  \\\n",
              "0   2.0   3.0   2.0   4.0   3.0    4.0   3.0   4.0   3.0   2.0   2.0   4.0   \n",
              "1   1.0   5.0   3.0   4.0   5.0    3.0   3.0   2.0   5.0   3.0   3.0   1.0   \n",
              "2   2.0   4.0   1.0   4.0   4.0    3.0   4.0   2.0   2.0   2.0   3.0   3.0   \n",
              "3   2.0   4.0   2.0   4.0   3.0    4.0   2.0   4.0   4.0   4.0   1.0   2.0   \n",
              "4   1.0   3.0   1.0   5.0   5.0    3.0   5.0   1.0   5.0   1.0   3.0   1.0   \n",
              "\n",
              "   CSN7  CSN8  CSN9  CSN10  OPN1  OPN2  OPN3  OPN4  OPN5  OPN6  OPN7  OPN8  \\\n",
              "0   4.0   2.0   4.0    4.0   5.0   1.0   4.0   1.0   4.0   1.0   5.0   3.0   \n",
              "1   3.0   3.0   5.0    3.0   1.0   2.0   4.0   2.0   3.0   1.0   4.0   2.0   \n",
              "2   4.0   2.0   4.0    2.0   5.0   1.0   2.0   1.0   4.0   2.0   5.0   3.0   \n",
              "3   2.0   3.0   1.0    4.0   4.0   2.0   5.0   2.0   3.0   1.0   4.0   4.0   \n",
              "4   5.0   1.0   5.0    5.0   5.0   1.0   5.0   1.0   5.0   1.0   5.0   3.0   \n",
              "\n",
              "   OPN9  OPN10 country  \n",
              "0   4.0    5.0      GB  \n",
              "1   5.0    3.0      MY  \n",
              "2   4.0    4.0      GB  \n",
              "3   3.0    3.0      GB  \n",
              "4   5.0    5.0      KE  "
            ]
          },
          "metadata": {},
          "execution_count": 18
        }
      ]
    },
    {
      "cell_type": "code",
      "metadata": {
        "_kg_hide-input": true,
        "trusted": true,
        "colab": {
          "base_uri": "https://localhost:8080/"
        },
        "id": "iyyAMQRJGf-Q",
        "outputId": "32fedc30-145e-45b8-c3ed-0f7eae7c354a"
      },
      "source": [
        "print('Is there any missing value? ', data.isnull().values.any())\n",
        "print('How many missing values? ', data.isnull().values.sum())\n",
        "data.dropna(inplace=True)\n",
        "print('Number of participants after eliminating missing values: ', len(data))"
      ],
      "execution_count": 19,
      "outputs": [
        {
          "output_type": "stream",
          "name": "stdout",
          "text": [
            "Is there any missing value?  True\n",
            "How many missing values?  89227\n",
            "Number of participants after eliminating missing values:  1013481\n"
          ]
        }
      ]
    },
    {
      "cell_type": "markdown",
      "metadata": {
        "id": "W42H0VHmZ5dr"
      },
      "source": [
        "#scaling the data"
      ]
    },
    {
      "cell_type": "code",
      "metadata": {
        "id": "05u7-c5AZ83O"
      },
      "source": [
        "df_model = data.drop('country', axis=1)\n",
        "scaler = StandardScaler()                      #for scaling the data\n",
        "df_model = scaler.fit_transform(df_model)"
      ],
      "execution_count": 20,
      "outputs": []
    },
    {
      "cell_type": "markdown",
      "metadata": {
        "id": "kPyXwALT6ttA"
      },
      "source": [
        "# Applying PCA with no. of components as 36"
      ]
    },
    {
      "cell_type": "code",
      "metadata": {
        "colab": {
          "base_uri": "https://localhost:8080/",
          "height": 226
        },
        "id": "RnTQqqUGTr6y",
        "outputId": "b12504a7-d7dc-4aaf-a2d0-6ce2236d6efa"
      },
      "source": [
        "\n",
        "no_of_components = 36\n",
        "pca_train = PCA(n_components=no_of_components)                             # this instance of trained pca model should be used on test data\n",
        "pca_fit = pca_train.fit_transform(df_model)\n",
        "df_pca_fit = pd.DataFrame(pca_fit) #converting array to dataframe\n",
        "df_pca_fit.head()"
      ],
      "execution_count": 21,
      "outputs": [
        {
          "output_type": "execute_result",
          "data": {
            "text/html": [
              "<div>\n",
              "<style scoped>\n",
              "    .dataframe tbody tr th:only-of-type {\n",
              "        vertical-align: middle;\n",
              "    }\n",
              "\n",
              "    .dataframe tbody tr th {\n",
              "        vertical-align: top;\n",
              "    }\n",
              "\n",
              "    .dataframe thead th {\n",
              "        text-align: right;\n",
              "    }\n",
              "</style>\n",
              "<table border=\"1\" class=\"dataframe\">\n",
              "  <thead>\n",
              "    <tr style=\"text-align: right;\">\n",
              "      <th></th>\n",
              "      <th>0</th>\n",
              "      <th>1</th>\n",
              "      <th>2</th>\n",
              "      <th>3</th>\n",
              "      <th>4</th>\n",
              "      <th>5</th>\n",
              "      <th>6</th>\n",
              "      <th>7</th>\n",
              "      <th>8</th>\n",
              "      <th>9</th>\n",
              "      <th>10</th>\n",
              "      <th>11</th>\n",
              "      <th>12</th>\n",
              "      <th>13</th>\n",
              "      <th>14</th>\n",
              "      <th>15</th>\n",
              "      <th>16</th>\n",
              "      <th>17</th>\n",
              "      <th>18</th>\n",
              "      <th>19</th>\n",
              "      <th>20</th>\n",
              "      <th>21</th>\n",
              "      <th>22</th>\n",
              "      <th>23</th>\n",
              "      <th>24</th>\n",
              "      <th>25</th>\n",
              "      <th>26</th>\n",
              "      <th>27</th>\n",
              "      <th>28</th>\n",
              "      <th>29</th>\n",
              "      <th>30</th>\n",
              "      <th>31</th>\n",
              "      <th>32</th>\n",
              "      <th>33</th>\n",
              "      <th>34</th>\n",
              "      <th>35</th>\n",
              "    </tr>\n",
              "  </thead>\n",
              "  <tbody>\n",
              "    <tr>\n",
              "      <th>0</th>\n",
              "      <td>-4.285804</td>\n",
              "      <td>-0.119113</td>\n",
              "      <td>1.935718</td>\n",
              "      <td>-1.500708</td>\n",
              "      <td>0.124215</td>\n",
              "      <td>0.494774</td>\n",
              "      <td>0.590228</td>\n",
              "      <td>-0.114948</td>\n",
              "      <td>-0.418778</td>\n",
              "      <td>0.631791</td>\n",
              "      <td>0.452622</td>\n",
              "      <td>-0.101086</td>\n",
              "      <td>-0.082931</td>\n",
              "      <td>1.046259</td>\n",
              "      <td>-0.556608</td>\n",
              "      <td>-0.184135</td>\n",
              "      <td>0.588537</td>\n",
              "      <td>-0.873856</td>\n",
              "      <td>-0.211518</td>\n",
              "      <td>-0.037057</td>\n",
              "      <td>0.154115</td>\n",
              "      <td>-0.694992</td>\n",
              "      <td>-0.839002</td>\n",
              "      <td>0.081221</td>\n",
              "      <td>-0.275951</td>\n",
              "      <td>-0.283225</td>\n",
              "      <td>0.068893</td>\n",
              "      <td>-0.423876</td>\n",
              "      <td>-0.273044</td>\n",
              "      <td>0.638355</td>\n",
              "      <td>0.342434</td>\n",
              "      <td>0.594387</td>\n",
              "      <td>-0.105124</td>\n",
              "      <td>0.081923</td>\n",
              "      <td>0.373338</td>\n",
              "      <td>0.573752</td>\n",
              "    </tr>\n",
              "    <tr>\n",
              "      <th>1</th>\n",
              "      <td>0.436310</td>\n",
              "      <td>1.336240</td>\n",
              "      <td>-2.355951</td>\n",
              "      <td>2.113431</td>\n",
              "      <td>-2.369085</td>\n",
              "      <td>-0.227339</td>\n",
              "      <td>-1.518483</td>\n",
              "      <td>0.346099</td>\n",
              "      <td>-1.188726</td>\n",
              "      <td>0.186270</td>\n",
              "      <td>0.102379</td>\n",
              "      <td>-0.480851</td>\n",
              "      <td>-0.720614</td>\n",
              "      <td>-0.272045</td>\n",
              "      <td>-0.140374</td>\n",
              "      <td>0.364613</td>\n",
              "      <td>1.181800</td>\n",
              "      <td>-0.149177</td>\n",
              "      <td>0.653994</td>\n",
              "      <td>-0.582033</td>\n",
              "      <td>0.680473</td>\n",
              "      <td>0.720253</td>\n",
              "      <td>0.305509</td>\n",
              "      <td>0.021340</td>\n",
              "      <td>-1.270126</td>\n",
              "      <td>-0.256101</td>\n",
              "      <td>1.172508</td>\n",
              "      <td>0.978143</td>\n",
              "      <td>-0.906335</td>\n",
              "      <td>0.466137</td>\n",
              "      <td>-0.563238</td>\n",
              "      <td>0.735815</td>\n",
              "      <td>-0.070663</td>\n",
              "      <td>0.317293</td>\n",
              "      <td>-0.335110</td>\n",
              "      <td>-1.265866</td>\n",
              "    </tr>\n",
              "    <tr>\n",
              "      <th>2</th>\n",
              "      <td>-0.550436</td>\n",
              "      <td>1.329255</td>\n",
              "      <td>-1.163808</td>\n",
              "      <td>0.304404</td>\n",
              "      <td>-2.137306</td>\n",
              "      <td>1.151729</td>\n",
              "      <td>1.419347</td>\n",
              "      <td>0.474900</td>\n",
              "      <td>0.790420</td>\n",
              "      <td>-0.030078</td>\n",
              "      <td>-0.125041</td>\n",
              "      <td>-0.394491</td>\n",
              "      <td>0.503536</td>\n",
              "      <td>0.775103</td>\n",
              "      <td>-0.755271</td>\n",
              "      <td>-1.265794</td>\n",
              "      <td>1.660044</td>\n",
              "      <td>0.894918</td>\n",
              "      <td>-0.945974</td>\n",
              "      <td>-0.716236</td>\n",
              "      <td>-0.011511</td>\n",
              "      <td>-0.931448</td>\n",
              "      <td>0.238419</td>\n",
              "      <td>0.137650</td>\n",
              "      <td>0.368049</td>\n",
              "      <td>-0.106649</td>\n",
              "      <td>-1.000288</td>\n",
              "      <td>0.585107</td>\n",
              "      <td>0.112246</td>\n",
              "      <td>-0.112715</td>\n",
              "      <td>0.246467</td>\n",
              "      <td>0.688977</td>\n",
              "      <td>0.122090</td>\n",
              "      <td>0.011128</td>\n",
              "      <td>-0.496000</td>\n",
              "      <td>-0.043757</td>\n",
              "    </tr>\n",
              "    <tr>\n",
              "      <th>3</th>\n",
              "      <td>0.953152</td>\n",
              "      <td>0.196126</td>\n",
              "      <td>1.427540</td>\n",
              "      <td>-0.729366</td>\n",
              "      <td>-2.097261</td>\n",
              "      <td>0.414084</td>\n",
              "      <td>0.300335</td>\n",
              "      <td>-0.631061</td>\n",
              "      <td>-0.326679</td>\n",
              "      <td>-0.504752</td>\n",
              "      <td>0.348833</td>\n",
              "      <td>1.516982</td>\n",
              "      <td>-1.058679</td>\n",
              "      <td>-0.240232</td>\n",
              "      <td>0.990476</td>\n",
              "      <td>0.663963</td>\n",
              "      <td>-0.452590</td>\n",
              "      <td>-0.542707</td>\n",
              "      <td>0.878676</td>\n",
              "      <td>1.448188</td>\n",
              "      <td>0.184231</td>\n",
              "      <td>-0.337766</td>\n",
              "      <td>0.003795</td>\n",
              "      <td>-0.088463</td>\n",
              "      <td>-0.796706</td>\n",
              "      <td>-0.304931</td>\n",
              "      <td>-0.498555</td>\n",
              "      <td>-0.183818</td>\n",
              "      <td>-0.275780</td>\n",
              "      <td>-0.351493</td>\n",
              "      <td>-0.546820</td>\n",
              "      <td>-0.118907</td>\n",
              "      <td>0.423608</td>\n",
              "      <td>0.875843</td>\n",
              "      <td>0.170725</td>\n",
              "      <td>-0.026258</td>\n",
              "    </tr>\n",
              "    <tr>\n",
              "      <th>4</th>\n",
              "      <td>-4.061475</td>\n",
              "      <td>0.934173</td>\n",
              "      <td>-4.297929</td>\n",
              "      <td>-0.945726</td>\n",
              "      <td>-0.943454</td>\n",
              "      <td>0.219050</td>\n",
              "      <td>-0.083314</td>\n",
              "      <td>-0.227881</td>\n",
              "      <td>-1.423707</td>\n",
              "      <td>-0.506582</td>\n",
              "      <td>-0.251533</td>\n",
              "      <td>0.241180</td>\n",
              "      <td>0.041808</td>\n",
              "      <td>0.010444</td>\n",
              "      <td>-0.282741</td>\n",
              "      <td>-0.233279</td>\n",
              "      <td>0.599288</td>\n",
              "      <td>-0.067808</td>\n",
              "      <td>0.280065</td>\n",
              "      <td>-0.462810</td>\n",
              "      <td>-0.096291</td>\n",
              "      <td>-0.002749</td>\n",
              "      <td>-0.190936</td>\n",
              "      <td>0.040142</td>\n",
              "      <td>-0.077695</td>\n",
              "      <td>-0.912275</td>\n",
              "      <td>0.728335</td>\n",
              "      <td>0.353711</td>\n",
              "      <td>0.590802</td>\n",
              "      <td>0.984410</td>\n",
              "      <td>0.744649</td>\n",
              "      <td>0.415593</td>\n",
              "      <td>0.733837</td>\n",
              "      <td>-0.137760</td>\n",
              "      <td>0.110907</td>\n",
              "      <td>0.944230</td>\n",
              "    </tr>\n",
              "  </tbody>\n",
              "</table>\n",
              "</div>"
            ],
            "text/plain": [
              "         0         1         2         3         4         5         6   \\\n",
              "0 -4.285804 -0.119113  1.935718 -1.500708  0.124215  0.494774  0.590228   \n",
              "1  0.436310  1.336240 -2.355951  2.113431 -2.369085 -0.227339 -1.518483   \n",
              "2 -0.550436  1.329255 -1.163808  0.304404 -2.137306  1.151729  1.419347   \n",
              "3  0.953152  0.196126  1.427540 -0.729366 -2.097261  0.414084  0.300335   \n",
              "4 -4.061475  0.934173 -4.297929 -0.945726 -0.943454  0.219050 -0.083314   \n",
              "\n",
              "         7         8         9         10        11        12        13  \\\n",
              "0 -0.114948 -0.418778  0.631791  0.452622 -0.101086 -0.082931  1.046259   \n",
              "1  0.346099 -1.188726  0.186270  0.102379 -0.480851 -0.720614 -0.272045   \n",
              "2  0.474900  0.790420 -0.030078 -0.125041 -0.394491  0.503536  0.775103   \n",
              "3 -0.631061 -0.326679 -0.504752  0.348833  1.516982 -1.058679 -0.240232   \n",
              "4 -0.227881 -1.423707 -0.506582 -0.251533  0.241180  0.041808  0.010444   \n",
              "\n",
              "         14        15        16        17        18        19        20  \\\n",
              "0 -0.556608 -0.184135  0.588537 -0.873856 -0.211518 -0.037057  0.154115   \n",
              "1 -0.140374  0.364613  1.181800 -0.149177  0.653994 -0.582033  0.680473   \n",
              "2 -0.755271 -1.265794  1.660044  0.894918 -0.945974 -0.716236 -0.011511   \n",
              "3  0.990476  0.663963 -0.452590 -0.542707  0.878676  1.448188  0.184231   \n",
              "4 -0.282741 -0.233279  0.599288 -0.067808  0.280065 -0.462810 -0.096291   \n",
              "\n",
              "         21        22        23        24        25        26        27  \\\n",
              "0 -0.694992 -0.839002  0.081221 -0.275951 -0.283225  0.068893 -0.423876   \n",
              "1  0.720253  0.305509  0.021340 -1.270126 -0.256101  1.172508  0.978143   \n",
              "2 -0.931448  0.238419  0.137650  0.368049 -0.106649 -1.000288  0.585107   \n",
              "3 -0.337766  0.003795 -0.088463 -0.796706 -0.304931 -0.498555 -0.183818   \n",
              "4 -0.002749 -0.190936  0.040142 -0.077695 -0.912275  0.728335  0.353711   \n",
              "\n",
              "         28        29        30        31        32        33        34  \\\n",
              "0 -0.273044  0.638355  0.342434  0.594387 -0.105124  0.081923  0.373338   \n",
              "1 -0.906335  0.466137 -0.563238  0.735815 -0.070663  0.317293 -0.335110   \n",
              "2  0.112246 -0.112715  0.246467  0.688977  0.122090  0.011128 -0.496000   \n",
              "3 -0.275780 -0.351493 -0.546820 -0.118907  0.423608  0.875843  0.170725   \n",
              "4  0.590802  0.984410  0.744649  0.415593  0.733837 -0.137760  0.110907   \n",
              "\n",
              "         35  \n",
              "0  0.573752  \n",
              "1 -1.265866  \n",
              "2 -0.043757  \n",
              "3 -0.026258  \n",
              "4  0.944230  "
            ]
          },
          "metadata": {},
          "execution_count": 21
        }
      ]
    },
    {
      "cell_type": "markdown",
      "metadata": {
        "id": "qGFAJnrD61_s"
      },
      "source": [
        "# K-Means Clustering"
      ]
    },
    {
      "cell_type": "markdown",
      "metadata": {
        "id": "6Q6M5yIZYQjg"
      },
      "source": [
        "## Clustering data into 5 Personality Groups"
      ]
    },
    {
      "cell_type": "code",
      "metadata": {
        "trusted": true,
        "id": "-hKLEdgiYQjh"
      },
      "source": [
        "# Creating K-means Cluster Model\n",
        "from sklearn.cluster import KMeans\n",
        "\n",
        "# defining 5 clusters and fitting the model\n",
        "\n",
        "kmeans = KMeans(n_clusters=5)\n",
        "k_fit = kmeans.fit(df_pca_fit)                 # kmeans model fit on data with reduced dimensions"
      ],
      "execution_count": 22,
      "outputs": []
    },
    {
      "cell_type": "code",
      "metadata": {
        "trusted": true,
        "colab": {
          "base_uri": "https://localhost:8080/",
          "height": 235
        },
        "id": "Zdj-aCNsYQjh",
        "outputId": "7338f096-31c3-4225-c519-f6e14da8b574"
      },
      "source": [
        "# Predicting the Clusters\n",
        "\n",
        "pd.options.display.max_columns = 10\n",
        "predictions = k_fit.labels_\n",
        "df_pca_fit['Clusters'] = predictions\n",
        "df_pca_fit.head()"
      ],
      "execution_count": 23,
      "outputs": [
        {
          "output_type": "execute_result",
          "data": {
            "text/html": [
              "<div>\n",
              "<style scoped>\n",
              "    .dataframe tbody tr th:only-of-type {\n",
              "        vertical-align: middle;\n",
              "    }\n",
              "\n",
              "    .dataframe tbody tr th {\n",
              "        vertical-align: top;\n",
              "    }\n",
              "\n",
              "    .dataframe thead th {\n",
              "        text-align: right;\n",
              "    }\n",
              "</style>\n",
              "<table border=\"1\" class=\"dataframe\">\n",
              "  <thead>\n",
              "    <tr style=\"text-align: right;\">\n",
              "      <th></th>\n",
              "      <th>0</th>\n",
              "      <th>1</th>\n",
              "      <th>2</th>\n",
              "      <th>3</th>\n",
              "      <th>4</th>\n",
              "      <th>...</th>\n",
              "      <th>32</th>\n",
              "      <th>33</th>\n",
              "      <th>34</th>\n",
              "      <th>35</th>\n",
              "      <th>Clusters</th>\n",
              "    </tr>\n",
              "  </thead>\n",
              "  <tbody>\n",
              "    <tr>\n",
              "      <th>0</th>\n",
              "      <td>-4.285804</td>\n",
              "      <td>-0.119113</td>\n",
              "      <td>1.935718</td>\n",
              "      <td>-1.500708</td>\n",
              "      <td>0.124215</td>\n",
              "      <td>...</td>\n",
              "      <td>-0.105124</td>\n",
              "      <td>0.081923</td>\n",
              "      <td>0.373338</td>\n",
              "      <td>0.573752</td>\n",
              "      <td>2</td>\n",
              "    </tr>\n",
              "    <tr>\n",
              "      <th>1</th>\n",
              "      <td>0.436310</td>\n",
              "      <td>1.336240</td>\n",
              "      <td>-2.355951</td>\n",
              "      <td>2.113431</td>\n",
              "      <td>-2.369085</td>\n",
              "      <td>...</td>\n",
              "      <td>-0.070663</td>\n",
              "      <td>0.317293</td>\n",
              "      <td>-0.335110</td>\n",
              "      <td>-1.265866</td>\n",
              "      <td>0</td>\n",
              "    </tr>\n",
              "    <tr>\n",
              "      <th>2</th>\n",
              "      <td>-0.550436</td>\n",
              "      <td>1.329255</td>\n",
              "      <td>-1.163808</td>\n",
              "      <td>0.304404</td>\n",
              "      <td>-2.137306</td>\n",
              "      <td>...</td>\n",
              "      <td>0.122090</td>\n",
              "      <td>0.011128</td>\n",
              "      <td>-0.496000</td>\n",
              "      <td>-0.043757</td>\n",
              "      <td>2</td>\n",
              "    </tr>\n",
              "    <tr>\n",
              "      <th>3</th>\n",
              "      <td>0.953152</td>\n",
              "      <td>0.196126</td>\n",
              "      <td>1.427540</td>\n",
              "      <td>-0.729366</td>\n",
              "      <td>-2.097261</td>\n",
              "      <td>...</td>\n",
              "      <td>0.423608</td>\n",
              "      <td>0.875843</td>\n",
              "      <td>0.170725</td>\n",
              "      <td>-0.026258</td>\n",
              "      <td>0</td>\n",
              "    </tr>\n",
              "    <tr>\n",
              "      <th>4</th>\n",
              "      <td>-4.061475</td>\n",
              "      <td>0.934173</td>\n",
              "      <td>-4.297929</td>\n",
              "      <td>-0.945726</td>\n",
              "      <td>-0.943454</td>\n",
              "      <td>...</td>\n",
              "      <td>0.733837</td>\n",
              "      <td>-0.137760</td>\n",
              "      <td>0.110907</td>\n",
              "      <td>0.944230</td>\n",
              "      <td>2</td>\n",
              "    </tr>\n",
              "  </tbody>\n",
              "</table>\n",
              "<p>5 rows × 37 columns</p>\n",
              "</div>"
            ],
            "text/plain": [
              "          0         1         2         3         4  ...        32        33  \\\n",
              "0 -4.285804 -0.119113  1.935718 -1.500708  0.124215  ... -0.105124  0.081923   \n",
              "1  0.436310  1.336240 -2.355951  2.113431 -2.369085  ... -0.070663  0.317293   \n",
              "2 -0.550436  1.329255 -1.163808  0.304404 -2.137306  ...  0.122090  0.011128   \n",
              "3  0.953152  0.196126  1.427540 -0.729366 -2.097261  ...  0.423608  0.875843   \n",
              "4 -4.061475  0.934173 -4.297929 -0.945726 -0.943454  ...  0.733837 -0.137760   \n",
              "\n",
              "         34        35  Clusters  \n",
              "0  0.373338  0.573752         2  \n",
              "1 -0.335110 -1.265866         0  \n",
              "2 -0.496000 -0.043757         2  \n",
              "3  0.170725 -0.026258         0  \n",
              "4  0.110907  0.944230         2  \n",
              "\n",
              "[5 rows x 37 columns]"
            ]
          },
          "metadata": {},
          "execution_count": 23
        }
      ]
    },
    {
      "cell_type": "markdown",
      "metadata": {
        "id": "e6RoUu-qYQjn"
      },
      "source": [
        "## Implementing the Model to check anyone's personality\n",
        "\n",
        "answer the questions in an Microsoft Excel spread sheet. \n",
        "Then add that data into this notebook and put your answers to the model to see in which category you belong to.\n",
        "\n",
        "A sample excel file is provided in the big5_dataset folder"
      ]
    },
    {
      "cell_type": "code",
      "metadata": {
        "trusted": true,
        "colab": {
          "base_uri": "https://localhost:8080/",
          "height": 110
        },
        "id": "2Mp3gBq3YQjn",
        "outputId": "99980b5e-69db-4214-96d2-5562ecc919d0"
      },
      "source": [
        "my_data = pd.read_excel('big5_personality_dataset/IPIP-FFM-data-8Nov2018/sample_excel_file.xlsx')\n",
        "my_data"
      ],
      "execution_count": 24,
      "outputs": [
        {
          "output_type": "execute_result",
          "data": {
            "text/html": [
              "<div>\n",
              "<style scoped>\n",
              "    .dataframe tbody tr th:only-of-type {\n",
              "        vertical-align: middle;\n",
              "    }\n",
              "\n",
              "    .dataframe tbody tr th {\n",
              "        vertical-align: top;\n",
              "    }\n",
              "\n",
              "    .dataframe thead th {\n",
              "        text-align: right;\n",
              "    }\n",
              "</style>\n",
              "<table border=\"1\" class=\"dataframe\">\n",
              "  <thead>\n",
              "    <tr style=\"text-align: right;\">\n",
              "      <th></th>\n",
              "      <th>EXT1</th>\n",
              "      <th>EXT2</th>\n",
              "      <th>EXT3</th>\n",
              "      <th>EXT4</th>\n",
              "      <th>EXT5</th>\n",
              "      <th>...</th>\n",
              "      <th>OPN6</th>\n",
              "      <th>OPN7</th>\n",
              "      <th>OPN8</th>\n",
              "      <th>OPN9</th>\n",
              "      <th>OPN10</th>\n",
              "    </tr>\n",
              "  </thead>\n",
              "  <tbody>\n",
              "    <tr>\n",
              "      <th>0</th>\n",
              "      <td>2</td>\n",
              "      <td>3</td>\n",
              "      <td>3</td>\n",
              "      <td>2</td>\n",
              "      <td>2</td>\n",
              "      <td>...</td>\n",
              "      <td>1</td>\n",
              "      <td>5</td>\n",
              "      <td>2</td>\n",
              "      <td>5</td>\n",
              "      <td>5</td>\n",
              "    </tr>\n",
              "  </tbody>\n",
              "</table>\n",
              "<p>1 rows × 50 columns</p>\n",
              "</div>"
            ],
            "text/plain": [
              "   EXT1  EXT2  EXT3  EXT4  EXT5  ...  OPN6  OPN7  OPN8  OPN9  OPN10\n",
              "0     2     3     3     2     2  ...     1     5     2     5      5\n",
              "\n",
              "[1 rows x 50 columns]"
            ]
          },
          "metadata": {},
          "execution_count": 24
        }
      ]
    },
    {
      "cell_type": "code",
      "metadata": {
        "id": "6QXrZ9k1afru"
      },
      "source": [
        "#my_data_array = np.array(my_data)\n",
        "\n",
        "scaler = StandardScaler()                      \n",
        "my_data1 = scaler.fit_transform(my_data)         # standard scaling of the data\n",
        "\n",
        "#pca = PCA(n_components=no_of_components)       # NOTE: pca, which is the instance of PCA() should be the same which was trained above on the big5 personality dataset\n",
        "my_data_pca_fit = pca_train.transform(my_data1) # transforming data to 36 principal components \n",
        "\n",
        "assert(my_data_pca_fit.shape == (1,no_of_components))"
      ],
      "execution_count": 25,
      "outputs": []
    },
    {
      "cell_type": "markdown",
      "metadata": {
        "id": "he7HmCzgasut"
      },
      "source": [
        "#predicting the cluster"
      ]
    },
    {
      "cell_type": "code",
      "metadata": {
        "trusted": true,
        "colab": {
          "base_uri": "https://localhost:8080/"
        },
        "id": "BsS_cqf4YQjo",
        "outputId": "3177be55-9bd7-4bc4-ccfa-a293f6128f2c"
      },
      "source": [
        "my_personality = k_fit.predict(my_data_pca_fit)\n",
        "print('My Personality Cluster: ', my_personality)"
      ],
      "execution_count": 26,
      "outputs": [
        {
          "output_type": "stream",
          "name": "stdout",
          "text": [
            "My Personality Cluster:  [4]\n"
          ]
        }
      ]
    },
    {
      "cell_type": "markdown",
      "metadata": {
        "id": "jnmzkKfLjvK9"
      },
      "source": [
        "#Finding the roommate/flatmate"
      ]
    },
    {
      "cell_type": "code",
      "metadata": {
        "id": "N63dQCMPr2Oy"
      },
      "source": [
        "def find_roommate(df_pca_fit, target_cluster, my_data_pca_fit):\n",
        "\n",
        "  \"\"\"\n",
        "  Arguments:\n",
        "  df_pca_fit = dataframe storing all the transformed data points (36 dimensions)\n",
        "  target_cluster = cluster number of the test data point\n",
        "  my_data_pca_fit = the transformed test data point\n",
        "\n",
        "  Returns:\n",
        "  array storing indices of closest 10 data points belonging to the target cluster\n",
        "  \"\"\"\n",
        "\n",
        "  df_cluster = df_pca_fit.groupby('Clusters').get_group(target_cluster)   #selecting the data cooresponding to the desired cluster number\n",
        "  #print(df_cluster.head())\n",
        "  df_cluster = df_cluster.drop('Clusters', axis=1)\n",
        "  df_cluster_array = np.array(df_cluster)\n",
        "\n",
        "  data_point_list = list(np.array(df_pca_fit.drop('Clusters', axis=1)))   # list to store data points of all clusters\n",
        "\n",
        "  point_list = []          # list to store all data points of target clusters \n",
        "\n",
        "  #print(df_cluster_array.shape)\n",
        "  \n",
        "  dist_list = []            # list to store euclidean distance of the target point form all other data points belonging to the same cluster\n",
        "\n",
        "\n",
        "  for i in range(df_cluster_array.shape[0]):\n",
        "    point1 = my_data_pca_fit\n",
        "    point2 = df_cluster_array[i]\n",
        "    point_list.append(point2)                      #storing data points belonging to the target cluster\n",
        "    \n",
        "    eucl_dist = np.linalg.norm(point1 - point2)   # euclidean distance b/w target point and other points in the target cluster\n",
        "    \n",
        "    dist_list.append(eucl_dist)\n",
        "  \n",
        "\n",
        "  min_idx = []                          # array to store indices of the 10 closest data points\n",
        "\n",
        "  for d in sorted(dist_list)[:10]:          #selecting first 10 minimum distances\n",
        "\n",
        "    temp_idx = dist_list.index(d)\n",
        "    #print(point_list[temp_idx])\n",
        "    #print(data_point_list[0])\n",
        "    #point_idx = data_point_list.index(point_list[temp_idx])\n",
        "\n",
        "    for k in range(len(data_point_list)):\n",
        "      if list(point_list[temp_idx]) == list(data_point_list[k]):\n",
        "        point_idx = k                                                  # storing the index of closest points w.r.t to the original dataframe (df_pca_fit)\n",
        "\n",
        "    min_idx.append(point_idx)          \n",
        "\n",
        "\n",
        "  return min_idx"
      ],
      "execution_count": 27,
      "outputs": []
    },
    {
      "cell_type": "code",
      "metadata": {
        "id": "43Z7bjLCsTXo"
      },
      "source": [
        "idx_list = find_roommate(df_pca_fit, my_personality[0], my_data_pca_fit)"
      ],
      "execution_count": 28,
      "outputs": []
    },
    {
      "cell_type": "code",
      "metadata": {
        "colab": {
          "base_uri": "https://localhost:8080/"
        },
        "id": "U1sTRSkOa1nC",
        "outputId": "e4e6e6d3-7641-40bd-dcc8-b96b6924301c"
      },
      "source": [
        "print(idx_list)  #these indices denote the position of 10 potential roommates in decreasing order "
      ],
      "execution_count": 29,
      "outputs": [
        {
          "output_type": "stream",
          "name": "stdout",
          "text": [
            "[599920, 938050, 995652, 17674, 240775, 595733, 989070, 345719, 981035, 589972]\n"
          ]
        }
      ]
    },
    {
      "cell_type": "code",
      "metadata": {
        "id": "Mu-M6gYBbTaa"
      },
      "source": [
        ""
      ],
      "execution_count": null,
      "outputs": []
    }
  ]
}